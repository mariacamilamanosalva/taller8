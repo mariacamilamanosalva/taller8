{
  "nbformat": 4,
  "nbformat_minor": 0,
  "metadata": {
    "colab": {
      "name": "Taller_8.ipynb",
      "provenance": [],
      "collapsed_sections": [],
      "include_colab_link": true
    },
    "kernelspec": {
      "name": "python3",
      "display_name": "Python 3"
    }
  },
  "cells": [
    {
      "cell_type": "markdown",
      "metadata": {
        "id": "view-in-github",
        "colab_type": "text"
      },
      "source": [
        "<a href=\"https://colab.research.google.com/github/mariacamilamanosalva/taller8/blob/main/Taller_8.ipynb\" target=\"_parent\"><img src=\"https://colab.research.google.com/assets/colab-badge.svg\" alt=\"Open In Colab\"/></a>"
      ]
    },
    {
      "cell_type": "markdown",
      "metadata": {
        "id": "e1cC8CdVx-fS"
      },
      "source": [
        "## Taller 8\n",
        "\n",
        "### Datos del estudiante:\n",
        "\n",
        "**Nombre:** Maria Camila Manosalva\n",
        "\n",
        "**Código:** 201920999"
      ]
    },
    {
      "cell_type": "markdown",
      "metadata": {
        "id": "NE01pduym1-v"
      },
      "source": [
        "**1)** Con una línea de código clone el repositorio \n",
        "\n",
        "[https://github.com/Dacastror/datos_para_ajustar.git](https://github.com/Dacastror/datos_para_ajustar.git)  \n",
        "\n",
        "En la carpeta \"*datos*\" de este repositorio hay un archivo llamado \"*población_mundial_por_año.txt*\". En este archivo la primera columna corresponde al año y la segunda a la población mundial en ese año. Cargue los datos con Numpy de forma que en una variable tenga los años y en otra la población. Grafique los datos cargados, colocar los años en el eje horizontal. Usando máscaras aplicadas a los arreglos de Python, seleccione solamente las parejas de datos entre los años $1970$ hasta $2019$. Imprima en pantalla los datos seleccionados. \n",
        "\n",
        "Usando la función llamada \"ajuste_lineal\" creada en clase, encuentre los parámetros de la recta que mejor ajusta los datos seleccionados. Grafique estos datos junto con la recta encontrada. Use la función de la recta encontrada para predecir la población en el año $2025$ y en el año $2035$, asumiendo que la tendencia de este periodo de tiempo continuará. \n",
        "\n",
        "\n",
        "**Bono:** Seleccione las parejas de datos entre el año $700$ al $1900$ usando máscaras. Agregue las columnas necesarias a la matriz $\\textbf{P}$ como se mencionó en clase para que pueda obtener los $6$ parámetros de un ajuste polinómico de grado $5$ usando la ecuación $\\vec v^{*}=(\\textbf P^{\\intercal}\\textbf{P})^{-1}\\textbf P^{\\intercal}\\vec y$. Grafique el polinomio de ajuste con una línea continua y los datos representados con puntos. Use este polinomio para estimar la población de los años $1473$, $1564$, $1643$, $1831$ y $1879$.\n"
      ]
    },
    {
      "cell_type": "code",
      "metadata": {
        "id": "7zvF52Jym2eU",
        "colab": {
          "base_uri": "https://localhost:8080/"
        },
        "outputId": "f9961114-1ee5-4f41-f7e9-b41e8a055843"
      },
      "source": [
        "#Respuesta\n",
        "import matplotlib.pyplot as plt\n",
        "import numpy as np\n",
        "#En la carpeta \"datos\" de este repositorio hay un archivo llamado \"población_mundial_por_año.txt\".\n",
        "! git clone https://github.com/Dacastror/datos_para_ajustar.git"
      ],
      "execution_count": 76,
      "outputs": [
        {
          "output_type": "stream",
          "name": "stdout",
          "text": [
            "fatal: destination path 'datos_para_ajustar' already exists and is not an empty directory.\n"
          ]
        }
      ]
    },
    {
      "cell_type": "code",
      "metadata": {
        "id": "F0rqw2XIdnyF"
      },
      "source": [
        "#En la carpeta \"datos\" de este repositorio hay un archivo llamado \"población_mundial_por_año.txt\".\n",
        "datos=np.loadtxt(\"datos_para_ajustar/datos/población_mundial_por_año.txt\")"
      ],
      "execution_count": 108,
      "outputs": []
    },
    {
      "cell_type": "code",
      "metadata": {
        "colab": {
          "base_uri": "https://localhost:8080/",
          "height": 293
        },
        "id": "AUQBLfafeC7b",
        "outputId": "2cc85c50-4d08-4451-ced1-b22360295bef"
      },
      "source": [
        "# En este archivo la primera columna corresponde al año y la segunda a la población mundial en ese año. \n",
        "#Cargue los datos con Numpy de forma que en una variable tenga los años y en otra la población. \n",
        "#Grafique los datos cargados, colocar los años en el eje horizontal.\n",
        "años=datos[:,0]\n",
        "poblacion=datos[:,1]\n",
        "#Usando máscaras aplicadas a los arreglos de Python, seleccione solamente las parejas de datos entre los años  1970  hasta  2019 .\n",
        "mascara=años>1970\n",
        "#mascara=años<2019\n",
        "plt.plot(años[mascara],poblacion[mascara],\"o\")\n",
        "#Usando la función llamada \"ajuste_lineal\" \n",
        "def ajuste_lineal(x,y):\n",
        "  n = len(x)\n",
        "  sumx = np.sum(x)\n",
        "  sumy = np.sum(y)\n",
        "  m = (np.sum(x*y) - sumx*sumy/n)/(np.sum(x*x)-sumx**2/n)\n",
        "  b = sumy/n - sumx*m/n \n",
        "  return m,b\n",
        "\n",
        "m, b = ajuste_lineal(años[mascara],poblacion[mascara])\n",
        "print(m,b)\n",
        "plt.plot(años[mascara],m*años[mascara]+b,'r',label=f\"${np.round(m,4)}años[mascara]+{np.round(b,4)}$\")\n",
        "plt.legend()\n",
        "plt.show()\n"
      ],
      "execution_count": 118,
      "outputs": [
        {
          "output_type": "stream",
          "name": "stdout",
          "text": [
            "82666623.06122449 -159195661558.16327\n"
          ]
        },
        {
          "output_type": "display_data",
          "data": {
            "image/png": "[encoded data removed]",
            "text/plain": [
              "<Figure size 432x288 with 1 Axes>"
            ]
          },
          "metadata": {
            "needs_background": "light"
          }
        }
      ]
    },
    {
      "cell_type": "code",
      "metadata": {
        "id": "TUt9rP4AqXGx"
      },
      "source": [
        "#Use la función de la recta encontrada para predecir la población en el año  2025  y en el año  2035 , \n",
        "#asumiendo que la tendencia de este periodo de tiempo continuará.\n"
      ],
      "execution_count": null,
      "outputs": []
    },
    {
      "cell_type": "markdown",
      "metadata": {
        "id": "QMswpDn3qhNW"
      },
      "source": [
        "**2)** En la carpeta \"*datos*\" del repositorio que clonó en el punto $1$ se encuentran archivos nombrados con la palabra \"*codigo*\", guion bajo y un número. De acuerdo al último dígito de su código de estudiante seleccione el archivo con el que trabajará. Con este mismo dígito seleccione La función de ajuste que encuentra en la siguiente tabla: \n",
        "\n",
        "  \\begin{array}{r|l} \n",
        "  \\text{Dígito} & \\text{Función de ajuste}\\\\ \n",
        "  \\hline \n",
        "  0 & f(x) = ax^3 + bx^2 + cx + d\\\\ \n",
        "  1 & f(x) = a\\exp{\\left(\\frac{-(x-b)^2}{c}\\right)}+d\\\\ \n",
        "  2 & f(x) = \\frac{a}{b+\\exp(c-x)}+d\\\\ \n",
        "  3 & f(x) = \\frac{a}{b+\\exp(1-x)}\\\\ \n",
        "  4 & f(x) = a+b\\cos(cx+d)\\\\ \n",
        "  5 & f(x) = \\frac{a}{\\pi((x-b)^2+a^2)}\\\\ \n",
        "  6 & f(x) = a + bx + c\\exp\\left(\\frac{-(x-d)^2}{e}\\right)\\\\ \n",
        "  7 & f(x) = a + b\\sqrt{cx+d}\\\\ \n",
        "  8 & f(x) = ax^b\\\\ \n",
        "  9 & f(x) = \\frac{-a}{a^2+(x-b)^2} \\\\ \n",
        "  \\end{array} \n",
        "\n",
        "Cargue los datos con Numpy. Utilice la librería Scipy y función de ajuste que le correspondió para encontrar los parámetros de ajuste ($a$, $b$,...). Grafique los datos descargados como puntos sin unir con línea y el ajuste obtenido como una línea continua, ambos en una única gráfica, utilice colores diferentes para la línea de ajuste y los datos. En la carpeta llamada \"*ejemplos_de_resultados_esperados*\" Puede observar el resultado que se espera obtener. \n",
        "Imprimir en pantalla los valores de los coeficientes obtenidos. evalúe la función de ajuste obtenida en $x=2.4$ y $x=4.5$. Incluya estos puntos ($x$, $f(x)$) en la gráfica realizada anteriormente y asígneles un color diferente al color de la línea o el de los datos. "
      ]
    },
    {
      "cell_type": "code",
      "metadata": {
        "id": "WVcQgu8vqhmr",
        "colab": {
          "base_uri": "https://localhost:8080/",
          "height": 282
        },
        "outputId": "b4797f31-a20d-4d00-a5b0-d09aaffb0469"
      },
      "source": [
        "#Respuesta\n",
        "#En la carpeta \"datos\" del repositorio que clonó en el punto  1  \n",
        "#se encuentran archivos nombrados con la palabra \"codigo\", guion bajo y un número.\n",
        "datos2=np.loadtxt(\"datos_para_ajustar/datos/codigo_9.dat\")\n",
        "#Con este mismo dígito seleccione La función de ajuste que encuentra en la siguiente tabla\n",
        "from scipy.optimize import curve_fit\n",
        "def f9(x, a, b):\n",
        "  return (-a)/(a**2+(x-b)**2)\n",
        "pts = 170\n",
        "a=datos2[:,0]\n",
        "b=datos2[:,1]\n",
        "x = np.linspace(2.4,4.5, pts)\n",
        "y = f9(x,a,b)\n",
        "\n",
        "print(x.shape,y.shape)\n",
        "coef, cov = curve_fit(f9, x, y)\n",
        "plt.plot(x,y,'.')\n",
        "plt.plot(x, f9(x, *coef),'r')\n",
        "plt.show()\n",
        "\n"
      ],
      "execution_count": 143,
      "outputs": [
        {
          "output_type": "stream",
          "name": "stdout",
          "text": [
            "(170,) (170,)\n"
          ]
        },
        {
          "output_type": "display_data",
          "data": {
            "image/png": "[encoded data removed]",
            "text/plain": [
              "<Figure size 432x288 with 1 Axes>"
            ]
          },
          "metadata": {
            "needs_background": "light"
          }
        }
      ]
    },
    {
      "cell_type": "markdown",
      "metadata": {
        "id": "BA61LKzogcQV"
      },
      "source": [
        "**3)** **a)** Escriba una definición de Python que retorna el valor de $f(x) = a_1x^5 + a_2x^4 + a_3x^3 + a_4x^2 + a_5x + a_6$ teniendo como entrada un arreglo $x$ y los $6$ coeficientes $a_1$, $a_2$, $a_3$, $a_4$, $a_5$ y $a_6$. \n",
        "\n",
        "Haga uso de la definición creada anteriormente, evaluándola para $x$ igual a un arreglo de $100$ números entre $-10$ a $10$ separados de forma equidistante. los $6$ coeficientes a usar serán los $6$ últimos dígitos de su código de estudiante (el último dígito de su código se corresponde con $a_6$ y así sucesivamente). A cada resultado obtenido al evaluar la definición, sumele un número aleatorio diferente usando `10*np.random.randn(100)` (esto generará $100$ números aleatorios (uno para cada uno de sus números) con distribución gaussiana de varianza $10$ y media $0$), claramente, para todo lo anterior **No** necesita ningún tipo de ciclo de Python. Guarde en 2 columnas de un archivo los datos de $x$ y $f(x)$. Suba Este archivo a un nuevo proyecto en su cuenta de GitHub. "
      ]
    },
    {
      "cell_type": "code",
      "metadata": {
        "id": "GrVexXh7k_45"
      },
      "source": [
        "#Respuesta\n",
        "#Escriba una definición de Python que retorna el valor de  \n",
        "#f(x)=a1x5+a2x4+a3x3+a4x2+a5x+a6  \n",
        "#teniendo como entrada un arreglo  x  y los  6  coeficientes  a1 ,  a2 ,  a3 ,  a4 ,  a5  y  a6\n",
        "def f3_a(x,a1,a2,a3,a4,a5,a6):\n",
        "  return (a1*x**5)+(a2*x**4)+(a3*x**3)+(a4*x**2)+(a5*x+a6)\n",
        "#x  igual a un arreglo de 100 números entre −10 a 10\n",
        "x=np.linspace(-10,10, 100)\n",
        "#los  6  coeficientes a usar serán los  6  últimos dígitos de su código de estudiante, 920999\n",
        "a1=9\n",
        "a2=2\n",
        "a3=0\n",
        "a4=9\n",
        "a5=9\n",
        "a6=9\n",
        "resultados= f3_a(x,a1,a2,a3,a4,a5,a6)+(10*np.random.randn(100))"
      ],
      "execution_count": 149,
      "outputs": []
    },
    {
      "cell_type": "code",
      "metadata": {
        "colab": {
          "base_uri": "https://localhost:8080/"
        },
        "id": "GKhJ06jA0K1b",
        "outputId": "f2e5eca4-3853-414b-c11e-1c02f2c98572"
      },
      "source": [
        "#Guarde en 2 columnas de un archivo los datos de  x  y  f(x). \n",
        "#Suba Este archivo a un nuevo proyecto en su cuenta de GitHub\n",
        "! git clone https://github.com/mariacamilamanosalva/taller8.git\n"
      ],
      "execution_count": 156,
      "outputs": [
        {
          "output_type": "stream",
          "name": "stdout",
          "text": [
            "fatal: destination path 'taller8' already exists and is not an empty directory.\n"
          ]
        }
      ]
    },
    {
      "cell_type": "markdown",
      "metadata": {
        "id": "zEB7p4i3o5v3"
      },
      "source": [
        "**b)** Usando código clone este repositorio de GitHub, lea los datos de su archivo y grafique los datos. Luego ajuste los datos a un polinomio de grado $5$ usando la librería Scipy. Grafique sus datos y sobre estos grafique el polinomio de ajuste. Evalúe el polinomio encontrado para $x=0$, $x=10$ y $x=15$. "
      ]
    },
    {
      "cell_type": "code",
      "metadata": {
        "id": "37wb3B7SwzMj"
      },
      "source": [
        "#Respuesta\n"
      ],
      "execution_count": null,
      "outputs": []
    }
  ]
}